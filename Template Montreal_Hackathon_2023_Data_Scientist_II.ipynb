{
 "cells": [
  {
   "cell_type": "code",
   "execution_count": 0,
   "metadata": {
    "application/vnd.databricks.v1+cell": {
     "cellMetadata": {
      "byteLimit": 2048000,
      "rowLimit": 10000
     },
     "inputWidgets": {},
     "nuid": "f43097b3-dfdd-4dae-b190-99fb8fcdcb3a",
     "showTitle": false,
     "title": ""
    }
   },
   "outputs": [],
   "source": [
    "%pip install databricks-feature-store databricks"
   ]
  },
  {
   "cell_type": "code",
   "execution_count": 0,
   "metadata": {
    "application/vnd.databricks.v1+cell": {
     "cellMetadata": {
      "byteLimit": 2048000,
      "rowLimit": 10000
     },
     "inputWidgets": {},
     "nuid": "fc0f066d-859e-4853-9521-4cfd512dfad0",
     "showTitle": false,
     "title": ""
    }
   },
   "outputs": [],
   "source": [
    "dbutils.library.restartPython()"
   ]
  },
  {
   "cell_type": "code",
   "execution_count": 0,
   "metadata": {
    "application/vnd.databricks.v1+cell": {
     "cellMetadata": {
      "byteLimit": 2048000,
      "rowLimit": 10000
     },
     "inputWidgets": {},
     "nuid": "6e8abe3c-7289-45da-a9e9-bd4f6533799f",
     "showTitle": false,
     "title": ""
    }
   },
   "outputs": [],
   "source": [
    "from pyspark.sql.functions import pandas_udf, PandasUDFType\n",
    "import pyspark.pandas as ps\n",
    "import os\n",
    "import pandas as pd\n",
    "import numpy as np\n",
    "import matplotlib.pyplot as plt\n",
    "from databricks.feature_store import feature_table, FeatureStoreClient\n",
    "\n",
    "from sklearn.ensemble import RandomForestRegressor, GradientBoostingRegressor, AdaBoostRegressor\n",
    "from sklearn.tree import DecisionTreeRegressor\n",
    "from sklearn.linear_model import LinearRegression\n",
    "from sklearn.svm import SVR\n",
    "from sklearn.model_selection import cross_validate, GridSearchCV\n",
    "from sklearn.metrics import r2_score, mean_squared_error, mean_absolute_error\n",
    "from sklearn.pipeline import Pipeline\n",
    "\n"
   ]
  },
  {
   "cell_type": "markdown",
   "metadata": {
    "application/vnd.databricks.v1+cell": {
     "cellMetadata": {
      "byteLimit": 2048000,
      "rowLimit": 10000
     },
     "inputWidgets": {},
     "nuid": "56316d04-3d70-4f2d-98a2-eae97549b47d",
     "showTitle": false,
     "title": ""
    }
   },
   "source": [
    "## Load data from Feature Store"
   ]
  },
  {
   "cell_type": "code",
   "execution_count": 0,
   "metadata": {
    "application/vnd.databricks.v1+cell": {
     "cellMetadata": {
      "byteLimit": 2048000,
      "rowLimit": 10000
     },
     "inputWidgets": {},
     "nuid": "23cdcc80-5815-452a-895f-09fafe039828",
     "showTitle": false,
     "title": ""
    }
   },
   "outputs": [],
   "source": [
    "fs = FeatureStoreClient()\n",
    "feature_set = fs.read_table(name=\"hackathon.example_schema.ml_nba_game_features_small\")\n",
    "display(feature_set)"
   ]
  },
  {
   "cell_type": "markdown",
   "metadata": {
    "application/vnd.databricks.v1+cell": {
     "cellMetadata": {
      "byteLimit": 2048000,
      "rowLimit": 10000
     },
     "inputWidgets": {},
     "nuid": "526d99e9-b61f-4ef6-850f-87527edafe8c",
     "showTitle": false,
     "title": ""
    }
   },
   "source": [
    "### Split into Training and Testing Sets Based on Season and Period and convert to pandas"
   ]
  },
  {
   "cell_type": "code",
   "execution_count": 0,
   "metadata": {
    "application/vnd.databricks.v1+cell": {
     "cellMetadata": {
      "byteLimit": 2048000,
      "rowLimit": 10000
     },
     "inputWidgets": {},
     "nuid": "35cadca5-fb8d-41ec-a7d0-444bd28c9645",
     "showTitle": false,
     "title": ""
    }
   },
   "outputs": [],
   "source": [
    "# training set include any number of seasons or any data not in 4th quarter\n",
    "# testing set only previous season 4th quarter (2022-23)\n",
    "# drop game_id and event_num among other columns as these are the identifiers\n",
    "# keep an original copy to be able to visualize actuals and predictions and filter properly for a game at the end of the notebook\n",
    "train = \n",
    "train_orig = \n",
    "test = \n",
    "test_orig ="
   ]
  },
  {
   "cell_type": "markdown",
   "metadata": {
    "application/vnd.databricks.v1+cell": {
     "cellMetadata": {
      "byteLimit": 2048000,
      "rowLimit": 10000
     },
     "inputWidgets": {},
     "nuid": "333760c9-3783-4d02-bf0f-c299cfc0a5cc",
     "showTitle": false,
     "title": ""
    }
   },
   "source": [
    "### Implement Modelling\n",
    "* Test out a bunch of different regression models"
   ]
  },
  {
   "cell_type": "code",
   "execution_count": 0,
   "metadata": {
    "application/vnd.databricks.v1+cell": {
     "cellMetadata": {
      "byteLimit": 2048000,
      "rowLimit": 10000
     },
     "inputWidgets": {},
     "nuid": "abb82b28-f550-429d-8630-03ec23602f72",
     "showTitle": false,
     "title": ""
    }
   },
   "outputs": [],
   "source": [
    "y_train = \n",
    "X_train = "
   ]
  },
  {
   "cell_type": "code",
   "execution_count": 0,
   "metadata": {
    "application/vnd.databricks.v1+cell": {
     "cellMetadata": {
      "byteLimit": 2048000,
      "rowLimit": 10000
     },
     "inputWidgets": {},
     "nuid": "5577114e-37b9-4c04-8f5f-806463a3278f",
     "showTitle": false,
     "title": ""
    }
   },
   "outputs": [],
   "source": [
    "# use a list of tuples with form (\"model_name\": Model())\n",
    "models = []\n",
    "\n",
    "all_metrics = {}\n",
    "\n",
    "for model in models:\n",
    "    all_metrics[] = {\n",
    "        \"MAE_train\": 0,\n",
    "        \"MAE_test\": 0\n",
    "    }\n",
    "\n",
    "    \n",
    "\n"
   ]
  },
  {
   "cell_type": "markdown",
   "metadata": {
    "application/vnd.databricks.v1+cell": {
     "cellMetadata": {},
     "inputWidgets": {},
     "nuid": "64ec8231-c987-47f7-9c82-31743ad3bb42",
     "showTitle": false,
     "title": ""
    }
   },
   "source": [
    "### **OPTIONAL** Hyperparameter tune best model generated on baseline using all data "
   ]
  },
  {
   "cell_type": "code",
   "execution_count": 0,
   "metadata": {
    "application/vnd.databricks.v1+cell": {
     "cellMetadata": {
      "byteLimit": 2048000,
      "rowLimit": 10000
     },
     "inputWidgets": {},
     "nuid": "a45dd975-f9be-4820-a1c3-259581714a3e",
     "showTitle": false,
     "title": ""
    }
   },
   "outputs": [],
   "source": [
    "# Use Pipeline and GridSearchCV"
   ]
  },
  {
   "cell_type": "markdown",
   "metadata": {
    "application/vnd.databricks.v1+cell": {
     "cellMetadata": {},
     "inputWidgets": {},
     "nuid": "82cb9583-208a-429e-9baf-c2ea6a49688d",
     "showTitle": false,
     "title": ""
    }
   },
   "source": [
    "### Evaluate Results on Testing Set and Make Predictions"
   ]
  },
  {
   "cell_type": "code",
   "execution_count": 0,
   "metadata": {
    "application/vnd.databricks.v1+cell": {
     "cellMetadata": {
      "byteLimit": 2048000,
      "rowLimit": 10000
     },
     "inputWidgets": {},
     "nuid": "55efb5e0-38ea-4ec3-b2a6-6c389875a7f2",
     "showTitle": false,
     "title": ""
    }
   },
   "outputs": [],
   "source": [
    "# Evaluate the MAE of your model on the test set you held out originally"
   ]
  },
  {
   "cell_type": "code",
   "execution_count": 0,
   "metadata": {
    "application/vnd.databricks.v1+cell": {
     "cellMetadata": {
      "byteLimit": 2048000,
      "rowLimit": 10000
     },
     "inputWidgets": {},
     "nuid": "2b1a2b72-5c89-4f09-ac8f-11aac21ccb15",
     "showTitle": false,
     "title": ""
    }
   },
   "outputs": [],
   "source": [
    "print(f\"R2 Score on Test Set: {round(r2_score(y_test, y_preds), 3)}\")\n",
    "print(f\"MSE on Test Set: {round(mean_squared_error(y_test, y_preds), 3)}\")\n",
    "print(f\"MAE Score on Test Set: {round(mean_absolute_error(y_test, y_preds), 3)}\")"
   ]
  },
  {
   "cell_type": "markdown",
   "metadata": {
    "application/vnd.databricks.v1+cell": {
     "cellMetadata": {},
     "inputWidgets": {},
     "nuid": "840a7d4b-0ee8-4562-9c3e-41e4e52f17af",
     "showTitle": false,
     "title": ""
    }
   },
   "source": [
    "### Visualize Predictions with Actuals for a Few Games"
   ]
  },
  {
   "cell_type": "code",
   "execution_count": 0,
   "metadata": {
    "application/vnd.databricks.v1+cell": {
     "cellMetadata": {},
     "inputWidgets": {},
     "nuid": "f53a514b-a325-4a09-9d05-918c3aa658f1",
     "showTitle": false,
     "title": ""
    }
   },
   "outputs": [],
   "source": [
    "train_orig = train_orig.toPandas()\n",
    "test_orig = test_orig.toPandas()"
   ]
  },
  {
   "cell_type": "code",
   "execution_count": 0,
   "metadata": {
    "application/vnd.databricks.v1+cell": {
     "cellMetadata": {
      "byteLimit": 2048000,
      "rowLimit": 10000
     },
     "inputWidgets": {},
     "nuid": "038f3995-19fc-4277-b38b-f03d491cb88a",
     "showTitle": false,
     "title": ""
    }
   },
   "outputs": [],
   "source": [
    "# recombine datasets\n",
    "train_orig['predictions'] = \n",
    "test_orig['predictions'] =\n"
   ]
  },
  {
   "cell_type": "code",
   "execution_count": 0,
   "metadata": {
    "application/vnd.databricks.v1+cell": {
     "cellMetadata": {
      "byteLimit": 2048000,
      "rowLimit": 10000
     },
     "inputWidgets": {},
     "nuid": "6367f624-50ce-4e83-8f2d-6ef8d9afc726",
     "showTitle": false,
     "title": ""
    }
   },
   "outputs": [],
   "source": []
  },
  {
   "cell_type": "markdown",
   "metadata": {
    "application/vnd.databricks.v1+cell": {
     "cellMetadata": {},
     "inputWidgets": {},
     "nuid": "22167ba9-7356-40f0-8acc-1f96849e51cb",
     "showTitle": false,
     "title": ""
    }
   },
   "source": [
    "### Save Results to Catalog"
   ]
  },
  {
   "cell_type": "code",
   "execution_count": 0,
   "metadata": {
    "application/vnd.databricks.v1+cell": {
     "cellMetadata": {
      "byteLimit": 2048000,
      "rowLimit": 10000
     },
     "inputWidgets": {},
     "nuid": "94d78eff-9fd9-4c4d-971c-4bd85e27e159",
     "showTitle": false,
     "title": ""
    }
   },
   "outputs": [],
   "source": [
    "feature_spark = spark.createDataFrame(feature_preds[['game_id', 'event_num', 'minute_game', 'score_margin_complete', 'predictions']])\n",
    "feature_spark.write.mode(\"overwrite\").saveAsTable(\"hackathon.example_schema.ml_results\")"
   ]
  },
  {
   "cell_type": "code",
   "execution_count": 0,
   "metadata": {
    "application/vnd.databricks.v1+cell": {
     "cellMetadata": {},
     "inputWidgets": {},
     "nuid": "ddba7adf-54d9-4758-9284-bb08ffe998d6",
     "showTitle": false,
     "title": ""
    }
   },
   "outputs": [],
   "source": []
  }
 ],
 "metadata": {
  "application/vnd.databricks.v1+notebook": {
   "dashboards": [],
   "language": "python",
   "notebookMetadata": {
    "pythonIndentUnit": 4
   },
   "notebookName": "Template Montreal_Hackathon_2023_Data_Scientist_II",
   "widgets": {}
  }
 },
 "nbformat": 4,
 "nbformat_minor": 0
}
