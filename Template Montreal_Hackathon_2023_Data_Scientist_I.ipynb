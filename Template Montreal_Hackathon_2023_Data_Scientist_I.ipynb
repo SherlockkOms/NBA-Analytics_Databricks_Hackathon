{
 "cells": [
  {
   "cell_type": "code",
   "execution_count": 0,
   "metadata": {
    "application/vnd.databricks.v1+cell": {
     "cellMetadata": {
      "byteLimit": 2048000,
      "rowLimit": 10000
     },
     "inputWidgets": {},
     "nuid": "f78cecb4-2f51-4dde-8c00-40d3d2b5a583",
     "showTitle": false,
     "title": ""
    }
   },
   "outputs": [],
   "source": [
    "%pip install databricks-feature-store"
   ]
  },
  {
   "cell_type": "code",
   "execution_count": 0,
   "metadata": {
    "application/vnd.databricks.v1+cell": {
     "cellMetadata": {
      "byteLimit": 2048000,
      "rowLimit": 10000
     },
     "inputWidgets": {},
     "nuid": "7bba4581-66d6-4680-874b-a7e907728e43",
     "showTitle": false,
     "title": ""
    }
   },
   "outputs": [],
   "source": [
    "dbutils.library.restartPython()"
   ]
  },
  {
   "cell_type": "code",
   "execution_count": 0,
   "metadata": {
    "application/vnd.databricks.v1+cell": {
     "cellMetadata": {
      "byteLimit": 2048000,
      "rowLimit": 10000
     },
     "inputWidgets": {},
     "nuid": "82e55add-8928-45ef-a0da-5983f544f5b4",
     "showTitle": false,
     "title": ""
    }
   },
   "outputs": [],
   "source": [
    "from databricks.feature_store import feature_table, FeatureStoreClient\n",
    "import pyspark.pandas as ps\n",
    "ps.set_option('compute.ops_on_diff_frames', True)\n",
    "from pyspark.ml.feature import MinMaxScaler\n",
    "import matplotlib.pyplot as plt"
   ]
  },
  {
   "cell_type": "code",
   "execution_count": 0,
   "metadata": {
    "application/vnd.databricks.v1+cell": {
     "cellMetadata": {
      "byteLimit": 2048000,
      "rowLimit": 10000
     },
     "inputWidgets": {},
     "nuid": "c3a28cbc-7bdc-4cad-b0e6-ca27894e6e7f",
     "showTitle": false,
     "title": ""
    }
   },
   "outputs": [],
   "source": [
    "# replace with your schema if you complete data engineering Silver Table Tasks\n",
    "nba_df = spark.table(\"hackathon.example_schema.play_by_play_silver\")\n",
    "display(nba_df)"
   ]
  },
  {
   "cell_type": "markdown",
   "metadata": {
    "application/vnd.databricks.v1+cell": {
     "cellMetadata": {
      "byteLimit": 2048000,
      "rowLimit": 10000
     },
     "inputWidgets": {},
     "nuid": "9b885ea8-7b30-49ca-97e6-434a63123f9a",
     "showTitle": false,
     "title": ""
    }
   },
   "source": [
    "## Perform Some EDA\n",
    "* Check datatypes, missing values, remove columns and clean data"
   ]
  },
  {
   "cell_type": "code",
   "execution_count": 0,
   "metadata": {
    "application/vnd.databricks.v1+cell": {
     "cellMetadata": {
      "byteLimit": 2048000,
      "rowLimit": 10000
     },
     "inputWidgets": {},
     "nuid": "419d8fd0-dcf4-420a-b7c0-12f8b26dd16d",
     "showTitle": false,
     "title": ""
    }
   },
   "outputs": [],
   "source": [
    "# convert dataframe to be pandas compatible\n",
    "df = nba_df.pandas_api()"
   ]
  },
  {
   "cell_type": "code",
   "execution_count": 0,
   "metadata": {
    "application/vnd.databricks.v1+cell": {
     "cellMetadata": {},
     "inputWidgets": {},
     "nuid": "f1d5dd0d-7856-404c-b0e4-4f9c38940fc1",
     "showTitle": false,
     "title": ""
    }
   },
   "outputs": [],
   "source": [
    "# Check for data quality here\n"
   ]
  },
  {
   "cell_type": "code",
   "execution_count": 0,
   "metadata": {
    "application/vnd.databricks.v1+cell": {
     "cellMetadata": {
      "byteLimit": 2048000,
      "rowLimit": 10000
     },
     "inputWidgets": {},
     "nuid": "a6de5a8f-7ae1-4f18-beb8-d341154f9106",
     "showTitle": false,
     "title": ""
    }
   },
   "outputs": [],
   "source": [
    "# remove columns with lots of empty values, duplicate identifiers, uninformative/unusable columns, duplicate information\n"
   ]
  },
  {
   "cell_type": "code",
   "execution_count": 0,
   "metadata": {
    "application/vnd.databricks.v1+cell": {
     "cellMetadata": {
      "byteLimit": 2048000,
      "rowLimit": 10000
     },
     "inputWidgets": {},
     "nuid": "0f961303-9114-475e-8b2d-dd7e6feec35f",
     "showTitle": false,
     "title": ""
    }
   },
   "outputs": [],
   "source": [
    "# filter for only regulation time\n"
   ]
  },
  {
   "cell_type": "code",
   "execution_count": 0,
   "metadata": {
    "application/vnd.databricks.v1+cell": {
     "cellMetadata": {
      "byteLimit": 2048000,
      "rowLimit": 10000
     },
     "inputWidgets": {},
     "nuid": "4dc793ee-c68d-45ca-b8ea-167b3402b903",
     "showTitle": false,
     "title": ""
    }
   },
   "outputs": [],
   "source": [
    "# remove non-official nba teams use data dictionary for list\n"
   ]
  },
  {
   "cell_type": "code",
   "execution_count": 0,
   "metadata": {
    "application/vnd.databricks.v1+cell": {
     "cellMetadata": {
      "byteLimit": 2048000,
      "rowLimit": 10000
     },
     "inputWidgets": {},
     "nuid": "3d87e2ad-8cef-4534-84bc-5e34e454c9b8",
     "showTitle": false,
     "title": ""
    }
   },
   "outputs": [],
   "source": [
    "# rename old team names using data dictionary\n"
   ]
  },
  {
   "cell_type": "markdown",
   "metadata": {
    "application/vnd.databricks.v1+cell": {
     "cellMetadata": {
      "byteLimit": 2048000,
      "rowLimit": 10000
     },
     "inputWidgets": {},
     "nuid": "69111776-45a9-491d-bc4c-26173809f875",
     "showTitle": false,
     "title": ""
    }
   },
   "source": [
    "### Visualize a Game Dataset"
   ]
  },
  {
   "cell_type": "markdown",
   "metadata": {
    "application/vnd.databricks.v1+cell": {
     "cellMetadata": {
      "byteLimit": 2048000,
      "rowLimit": 10000
     },
     "inputWidgets": {},
     "nuid": "605d8660-c9e1-432c-a697-766b260de3b6",
     "showTitle": false,
     "title": ""
    }
   },
   "source": [
    "### Visualize multiple games"
   ]
  },
  {
   "cell_type": "code",
   "execution_count": 0,
   "metadata": {
    "application/vnd.databricks.v1+cell": {
     "cellMetadata": {
      "byteLimit": 2048000,
      "rowLimit": 10000
     },
     "inputWidgets": {},
     "nuid": "c38e2f00-4d36-430d-9c3a-19f90407cf78",
     "showTitle": false,
     "title": ""
    }
   },
   "outputs": [],
   "source": [
    "games = df['game_id'].unique().tolist()[:20]"
   ]
  },
  {
   "cell_type": "code",
   "execution_count": 0,
   "metadata": {
    "application/vnd.databricks.v1+cell": {
     "cellMetadata": {
      "byteLimit": 2048000,
      "rowLimit": 10000
     },
     "inputWidgets": {},
     "nuid": "b510d4dc-0882-4685-ba79-b757d920bb4e",
     "showTitle": false,
     "title": ""
    }
   },
   "outputs": [],
   "source": [
    "df_game = df[df['game_id'].isin(games)].to_pandas()"
   ]
  },
  {
   "cell_type": "code",
   "execution_count": 0,
   "metadata": {
    "application/vnd.databricks.v1+cell": {
     "cellMetadata": {
      "byteLimit": 2048000,
      "rowLimit": 10000
     },
     "inputWidgets": {},
     "nuid": "e1c260ce-ba78-4cc7-ad0b-96bb28f98582",
     "showTitle": false,
     "title": ""
    }
   },
   "outputs": [],
   "source": [
    "# create a plot of 20 games\n"
   ]
  },
  {
   "cell_type": "markdown",
   "metadata": {
    "application/vnd.databricks.v1+cell": {
     "cellMetadata": {
      "byteLimit": 2048000,
      "rowLimit": 10000
     },
     "inputWidgets": {},
     "nuid": "100e27e9-eeb6-45d1-b1cd-a9c3d62aa2fc",
     "showTitle": false,
     "title": ""
    }
   },
   "source": [
    "### Check Numerical Univariate Distributions and Correlations"
   ]
  },
  {
   "cell_type": "code",
   "execution_count": 0,
   "metadata": {
    "application/vnd.databricks.v1+cell": {
     "cellMetadata": {
      "byteLimit": 2048000,
      "rowLimit": 10000
     },
     "inputWidgets": {},
     "nuid": "5586e823-f2cc-473f-bae4-081cd5f6c2a9",
     "showTitle": false,
     "title": ""
    }
   },
   "outputs": [],
   "source": [
    "# select numerical columns and check distributions and correlations\n"
   ]
  },
  {
   "cell_type": "markdown",
   "metadata": {
    "application/vnd.databricks.v1+cell": {
     "cellMetadata": {
      "byteLimit": 2048000,
      "rowLimit": 10000
     },
     "inputWidgets": {},
     "nuid": "d8744eb5-52d6-45d2-a5be-6c5149bc9264",
     "showTitle": false,
     "title": ""
    }
   },
   "source": [
    "### Prepare Data for forecasting "
   ]
  },
  {
   "cell_type": "markdown",
   "metadata": {
    "application/vnd.databricks.v1+cell": {
     "cellMetadata": {
      "byteLimit": 2048000,
      "rowLimit": 10000
     },
     "inputWidgets": {},
     "nuid": "d2b75df5-09a3-412b-94bd-3e216bcb433e",
     "showTitle": false,
     "title": ""
    }
   },
   "source": [
    "#### Create Seasonality Variables from game date"
   ]
  },
  {
   "cell_type": "code",
   "execution_count": 0,
   "metadata": {
    "application/vnd.databricks.v1+cell": {
     "cellMetadata": {},
     "inputWidgets": {},
     "nuid": "1a8a502e-1b7a-49cb-8dbc-7e6ae8591602",
     "showTitle": false,
     "title": ""
    }
   },
   "outputs": [],
   "source": [
    "# month and day from game_date and year from season"
   ]
  },
  {
   "cell_type": "markdown",
   "metadata": {
    "application/vnd.databricks.v1+cell": {
     "cellMetadata": {
      "byteLimit": 2048000,
      "rowLimit": 10000
     },
     "inputWidgets": {},
     "nuid": "028a53a4-59bb-4a04-a52e-4063c4e5bfc3",
     "showTitle": false,
     "title": ""
    }
   },
   "source": [
    "#### Create within game lagging metrics"
   ]
  },
  {
   "cell_type": "code",
   "execution_count": 0,
   "metadata": {
    "application/vnd.databricks.v1+cell": {
     "cellMetadata": {
      "byteLimit": 2048000,
      "rowLimit": 10000
     },
     "inputWidgets": {},
     "nuid": "8641b7e7-2595-41b3-a29e-2c9e8004f513",
     "showTitle": false,
     "title": ""
    }
   },
   "outputs": [],
   "source": [
    "### Within game lagging metric\n",
    "# calculate momentum within a game by taking the difference between the margin 40 events which is just less than the last four minutes of play\n",
    "# 455 plays per game 455 / 48 is roughly 10 making 40 about 4 minutes\n",
    "# Hint Use a GroupBy and shift\n",
    "# remove rows with missing values using dropna and subset\n"
   ]
  },
  {
   "cell_type": "markdown",
   "metadata": {
    "application/vnd.databricks.v1+cell": {
     "cellMetadata": {
      "byteLimit": 2048000,
      "rowLimit": 10000
     },
     "inputWidgets": {},
     "nuid": "fc1e8b20-b202-4bd0-b738-d97172905e00",
     "showTitle": false,
     "title": ""
    }
   },
   "source": [
    "#### Create small and larger dataset by subsetting for only Toronto Raptors and One-Hot Encode Categorical Columns"
   ]
  },
  {
   "cell_type": "code",
   "execution_count": 0,
   "metadata": {
    "application/vnd.databricks.v1+cell": {
     "cellMetadata": {
      "byteLimit": 2048000,
      "rowLimit": 10000
     },
     "inputWidgets": {},
     "nuid": "1b9b49c8-4387-468a-acf4-6b0caf8e1420",
     "showTitle": false,
     "title": ""
    }
   },
   "outputs": [],
   "source": [
    "df_small = df[df['home_team'] == \"Toronto_Raptors\"]\n",
    "\n",
    "# rename columns for storing in feature store\n",
    "df_small.columns = map(lambda x: str(x).replace(\" \", \"_\").lower(), df_small.columns)"
   ]
  },
  {
   "cell_type": "markdown",
   "metadata": {
    "application/vnd.databricks.v1+cell": {
     "cellMetadata": {
      "byteLimit": 2048000,
      "rowLimit": 10000
     },
     "inputWidgets": {},
     "nuid": "2465f1be-5e27-4dfa-8804-6fa6bfbfd2d7",
     "showTitle": false,
     "title": ""
    }
   },
   "source": [
    "### Write to Feature Store"
   ]
  },
  {
   "cell_type": "code",
   "execution_count": 0,
   "metadata": {
    "application/vnd.databricks.v1+cell": {
     "cellMetadata": {
      "byteLimit": 2048000,
      "rowLimit": 10000
     },
     "inputWidgets": {},
     "nuid": "1072923e-c5e7-49b7-87d0-edffd6b758b6",
     "showTitle": false,
     "title": ""
    }
   },
   "outputs": [],
   "source": [
    "# replace example_schema with your schema\n",
    "table_name = \"hackathon.example_schema.ml_nba_game_features_small\"\n",
    "\n",
    "try:\n",
    "    fs.drop_table(table_name)\n",
    "except:\n",
    "    pass\n",
    "\n",
    "# write code to write to feature store below\n"
   ]
  }
 ],
 "metadata": {
  "application/vnd.databricks.v1+notebook": {
   "dashboards": [],
   "language": "python",
   "notebookMetadata": {
    "pythonIndentUnit": 4
   },
   "notebookName": "Template Montreal_Hackathon_2023_Data_Scientist_I",
   "widgets": {}
  }
 },
 "nbformat": 4,
 "nbformat_minor": 0
}
