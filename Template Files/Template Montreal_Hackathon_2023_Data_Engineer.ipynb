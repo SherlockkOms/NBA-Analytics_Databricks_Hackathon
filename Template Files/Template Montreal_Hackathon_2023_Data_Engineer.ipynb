{
 "cells": [
  {
   "cell_type": "markdown",
   "metadata": {
    "application/vnd.databricks.v1+cell": {
     "cellMetadata": {
      "byteLimit": 2048000,
      "rowLimit": 10000
     },
     "inputWidgets": {},
     "nuid": "c770efda-59aa-46e5-b1e1-e330350ab6a5",
     "showTitle": false,
     "title": ""
    }
   },
   "source": [
    "## Import Necessary Libraries"
   ]
  },
  {
   "cell_type": "code",
   "execution_count": 0,
   "metadata": {
    "application/vnd.databricks.v1+cell": {
     "cellMetadata": {
      "byteLimit": 2048000,
      "rowLimit": 10000
     },
     "inputWidgets": {},
     "nuid": "fe6d47ab-6b58-48d8-9fee-e6a9bbee04c3",
     "showTitle": false,
     "title": ""
    }
   },
   "outputs": [],
   "source": [
    "import dlt\n",
    "import pyspark.sql.functions as F\n",
    "from pyspark.sql.window import Window"
   ]
  },
  {
   "cell_type": "markdown",
   "metadata": {
    "application/vnd.databricks.v1+cell": {
     "cellMetadata": {
      "byteLimit": 2048000,
      "rowLimit": 10000
     },
     "inputWidgets": {},
     "nuid": "778a4c63-d706-45ab-8161-fa44daec9e2c",
     "showTitle": false,
     "title": ""
    }
   },
   "source": [
    "## Read Raw NBA Games Data from S3 Bucket to Bronze Data"
   ]
  },
  {
   "cell_type": "code",
   "execution_count": 0,
   "metadata": {
    "application/vnd.databricks.v1+cell": {
     "cellMetadata": {
      "byteLimit": 2048000,
      "rowLimit": 10000
     },
     "inputWidgets": {},
     "nuid": "f4c78287-6214-4f05-8dcc-2485c7cb4619",
     "showTitle": false,
     "title": ""
    }
   },
   "outputs": [],
   "source": [
    "@dlt.create_table(\n",
    "\n",
    ")\n",
    "def nba_games_bronze():\n"
   ]
  },
  {
   "cell_type": "markdown",
   "metadata": {
    "application/vnd.databricks.v1+cell": {
     "cellMetadata": {
      "byteLimit": 2048000,
      "rowLimit": 10000
     },
     "inputWidgets": {},
     "nuid": "25e970d4-d16e-420d-9f3c-b5b02e6d7355",
     "showTitle": false,
     "title": ""
    }
   },
   "source": [
    "### Clean Data and Ensure Data Quality Moving Data From Bronze to Silver"
   ]
  },
  {
   "cell_type": "markdown",
   "metadata": {
    "application/vnd.databricks.v1+cell": {
     "cellMetadata": {
      "byteLimit": 2048000,
      "rowLimit": 10000
     },
     "inputWidgets": {},
     "nuid": "4ebc084d-3ca7-42d1-90f1-13cfe93fa4ff",
     "showTitle": false,
     "title": ""
    }
   },
   "source": [
    "### Create Two Tables From the Original Data\n",
    "* Play-by-Play Data\n",
    "* Overall Game Data"
   ]
  },
  {
   "cell_type": "markdown",
   "metadata": {
    "application/vnd.databricks.v1+cell": {
     "cellMetadata": {
      "byteLimit": 2048000,
      "rowLimit": 10000
     },
     "inputWidgets": {},
     "nuid": "476b6824-73a7-4d3b-88bc-fe92891ba796",
     "showTitle": false,
     "title": ""
    }
   },
   "source": [
    "#### Play-by-Play Data"
   ]
  },
  {
   "cell_type": "code",
   "execution_count": 0,
   "metadata": {
    "application/vnd.databricks.v1+cell": {
     "cellMetadata": {
      "byteLimit": 2048000,
      "rowLimit": 10000
     },
     "inputWidgets": {},
     "nuid": "472db151-4cdf-428e-96c9-cb2e7bf34d6a",
     "showTitle": false,
     "title": ""
    }
   },
   "outputs": [],
   "source": [
    "@dlt.create_table(\n",
    "\n",
    ")\n",
    "@dlt.expect()\n",
    "def play_by_play_silver():\n",
    "    window = (\n",
    "\n",
    "    )\n",
    "\n",
    "    return (spark.table(\"LIVE.nba_games_bronze\")\n",
    "            .select(\n",
    "                # put necessary columns here\n",
    "            )\n",
    "                # apply Window function and data cleaning steps here\n",
    "    )"
   ]
  },
  {
   "cell_type": "markdown",
   "metadata": {
    "application/vnd.databricks.v1+cell": {
     "cellMetadata": {
      "byteLimit": 2048000,
      "rowLimit": 10000
     },
     "inputWidgets": {},
     "nuid": "d4cf0262-aff5-4de8-8dea-4f002faddd51",
     "showTitle": false,
     "title": ""
    }
   },
   "source": [
    "#### Overall Game Data"
   ]
  },
  {
   "cell_type": "code",
   "execution_count": 0,
   "metadata": {
    "application/vnd.databricks.v1+cell": {
     "cellMetadata": {
      "byteLimit": 2048000,
      "rowLimit": 10000
     },
     "inputWidgets": {},
     "nuid": "6bd2ca79-7e3f-4c8a-99d5-460d69a1cb9a",
     "showTitle": false,
     "title": ""
    }
   },
   "outputs": [],
   "source": [
    "@dlt.create_table(\n",
    "\n",
    ")\n",
    "def overall_game_silver():\n",
    "    return (spark.table(\"LIVE.nba_games_bronze\")\n",
    "            \n",
    "    )"
   ]
  },
  {
   "cell_type": "markdown",
   "metadata": {
    "application/vnd.databricks.v1+cell": {
     "cellMetadata": {
      "byteLimit": 2048000,
      "rowLimit": 10000
     },
     "inputWidgets": {},
     "nuid": "cdb7ada2-08bf-42f4-9a58-eef587a40ea1",
     "showTitle": false,
     "title": ""
    }
   },
   "source": [
    "### Create Aggregated Data at the gold level"
   ]
  },
  {
   "cell_type": "code",
   "execution_count": 0,
   "metadata": {
    "application/vnd.databricks.v1+cell": {
     "cellMetadata": {
      "byteLimit": 2048000,
      "rowLimit": 10000
     },
     "inputWidgets": {},
     "nuid": "f35767fa-983f-4b76-b035-c97e3498de84",
     "showTitle": false,
     "title": ""
    }
   },
   "outputs": [],
   "source": [
    "@dlt.create_table(\n",
    "\n",
    ")\n",
    "def play_by_event_gold():\n",
    "    return (\n",
    "        dlt.read(\"play_by_play_silver\")\n",
    "\n",
    "    )"
   ]
  },
  {
   "cell_type": "code",
   "execution_count": 0,
   "metadata": {
    "application/vnd.databricks.v1+cell": {
     "cellMetadata": {
      "byteLimit": 2048000,
      "rowLimit": 10000
     },
     "inputWidgets": {},
     "nuid": "c3c75b03-2ab6-4aee-bf47-2c438f2f0b6f",
     "showTitle": false,
     "title": ""
    }
   },
   "outputs": [],
   "source": [
    "@dlt.create_table(\n",
    "\n",
    ")\n",
    "def play_by_event_team_gold():\n",
    "    return (\n",
    "        dlt.read(\"play_by_play_silver\")\n",
    "\n",
    "    )"
   ]
  },
  {
   "cell_type": "code",
   "execution_count": 0,
   "metadata": {
    "application/vnd.databricks.v1+cell": {
     "cellMetadata": {
      "byteLimit": 2048000,
      "rowLimit": 10000
     },
     "inputWidgets": {},
     "nuid": "d3177264-874e-484c-8f51-d19804859964",
     "showTitle": false,
     "title": ""
    }
   },
   "outputs": [],
   "source": [
    "@dlt.create_table(\n",
    "\n",
    ")\n",
    "def play_by_player_gold():\n",
    "    return (\n",
    "        dlt.read(\"play_by_play_silver\")\n",
    "\n",
    "    )"
   ]
  },
  {
   "cell_type": "code",
   "execution_count": 0,
   "metadata": {
    "application/vnd.databricks.v1+cell": {
     "cellMetadata": {
      "byteLimit": 2048000,
      "rowLimit": 10000
     },
     "inputWidgets": {},
     "nuid": "9ee54574-b9b0-4634-959b-02a3ad2fac22",
     "showTitle": false,
     "title": ""
    }
   },
   "outputs": [],
   "source": [
    "@dlt.create_table(\n",
    "\n",
    ")\n",
    "def team_stats_season_home_gold():\n",
    "    return (\n",
    "        spark.table(\"LIVE.overall_game_silver\")\n",
    "\n",
    "    )"
   ]
  },
  {
   "cell_type": "code",
   "execution_count": 0,
   "metadata": {
    "application/vnd.databricks.v1+cell": {
     "cellMetadata": {
      "byteLimit": 2048000,
      "rowLimit": 10000
     },
     "inputWidgets": {},
     "nuid": "64f4f79b-dc94-43fa-b904-283a527ca0c3",
     "showTitle": false,
     "title": ""
    }
   },
   "outputs": [],
   "source": [
    "@dlt.create_table(\n",
    "\n",
    ")\n",
    "def team_stats_season_away_gold():\n",
    "    return (\n",
    "        dlt.read(\"overall_game_silver\")\n",
    "\n",
    "    )"
   ]
  }
 ],
 "metadata": {
  "application/vnd.databricks.v1+notebook": {
   "dashboards": [],
   "language": "python",
   "notebookMetadata": {
    "pythonIndentUnit": 4
   },
   "notebookName": "Template Montreal_Hackathon_2023_Data_Engineer",
   "widgets": {}
  }
 },
 "nbformat": 4,
 "nbformat_minor": 0
}
